{
 "cells": [
  {
   "cell_type": "code",
   "execution_count": 4,
   "id": "musical-accommodation",
   "metadata": {},
   "outputs": [
    {
     "name": "stderr",
     "output_type": "stream",
     "text": [
      "Matplotlib is building the font cache; this may take a moment.\n"
     ]
    }
   ],
   "source": [
    "#Pquetería\n",
    "import pandas as pd\n",
    "import re\n",
    "#import networkx as nx\n",
    "#import graph_tool.all as gt\n",
    "import numpy as np\n",
    "#import geopandas as gpd  \n",
    "import matplotlib.pyplot as plt"
   ]
  },
  {
   "cell_type": "code",
   "execution_count": 5,
   "id": "classified-delta",
   "metadata": {},
   "outputs": [],
   "source": [
    "#Bases de datos\n",
    "url='https://raw.githubusercontent.com/DianaMCV/Redes/main/comercio_2019.csv'\n",
    "url1='https://raw.githubusercontent.com/DianaMCV/Redes/main/comercio_2020.csv'\n",
    "url2='https://raw.githubusercontent.com/DianaMCV/Redes/main/comercio_2021.csv'\n",
    "url3='https://raw.githubusercontent.com/RBESPINOSA/proyecto_redes/main/coordenadas.csv'\n",
    "url4='https://raw.githubusercontent.com/RBESPINOSA/proyecto_redes/main/distancias_final.csv'\n",
    "\n",
    "c2019 = pd.read_csv(url, index_col=0, encoding='latin-1') \n",
    "#c2020 = pd.read_csv(url1, index_col=0, encoding='latin-1') \n",
    "#c2021 = pd.read_csv(url2, index_col=0, encoding='latin-1') \n",
    "coordenadas = pd.read_csv(url3, encoding='latin-1') \n",
    "#distancias = pd.read_csv(url4, encoding='latin-1')"
   ]
  },
  {
   "cell_type": "code",
   "execution_count": 6,
   "id": "choice-iraqi",
   "metadata": {},
   "outputs": [
    {
     "data": {
      "text/html": [
       "<div>\n",
       "<style scoped>\n",
       "    .dataframe tbody tr th:only-of-type {\n",
       "        vertical-align: middle;\n",
       "    }\n",
       "\n",
       "    .dataframe tbody tr th {\n",
       "        vertical-align: top;\n",
       "    }\n",
       "\n",
       "    .dataframe thead th {\n",
       "        text-align: right;\n",
       "    }\n",
       "</style>\n",
       "<table border=\"1\" class=\"dataframe\">\n",
       "  <thead>\n",
       "    <tr style=\"text-align: right;\">\n",
       "      <th></th>\n",
       "      <th>producto</th>\n",
       "      <th>calidad</th>\n",
       "      <th>presentación</th>\n",
       "      <th>origen</th>\n",
       "      <th>destino</th>\n",
       "      <th>precio mín</th>\n",
       "      <th>precio max</th>\n",
       "      <th>precio frec</th>\n",
       "      <th>obs.</th>\n",
       "    </tr>\n",
       "    <tr>\n",
       "      <th>Fecha</th>\n",
       "      <th></th>\n",
       "      <th></th>\n",
       "      <th></th>\n",
       "      <th></th>\n",
       "      <th></th>\n",
       "      <th></th>\n",
       "      <th></th>\n",
       "      <th></th>\n",
       "      <th></th>\n",
       "    </tr>\n",
       "  </thead>\n",
       "  <tbody>\n",
       "    <tr>\n",
       "      <th>22/04/2019</th>\n",
       "      <td>Aguacate Hass</td>\n",
       "      <td>Primera</td>\n",
       "      <td>Caja de 15 kg.</td>\n",
       "      <td>aguascalientes</td>\n",
       "      <td>nayarit</td>\n",
       "      <td>808</td>\n",
       "      <td>810</td>\n",
       "      <td>809</td>\n",
       "      <td>NaN</td>\n",
       "    </tr>\n",
       "    <tr>\n",
       "      <th>23/04/2019</th>\n",
       "      <td>Aguacate Hass</td>\n",
       "      <td>Primera</td>\n",
       "      <td>Caja de 15 kg.</td>\n",
       "      <td>aguascalientes</td>\n",
       "      <td>nayarit</td>\n",
       "      <td>808</td>\n",
       "      <td>810</td>\n",
       "      <td>809</td>\n",
       "      <td>NaN</td>\n",
       "    </tr>\n",
       "    <tr>\n",
       "      <th>24/04/2019</th>\n",
       "      <td>Aguacate Hass</td>\n",
       "      <td>Primera</td>\n",
       "      <td>Caja de 15 kg.</td>\n",
       "      <td>aguascalientes</td>\n",
       "      <td>nayarit</td>\n",
       "      <td>808</td>\n",
       "      <td>810</td>\n",
       "      <td>809</td>\n",
       "      <td>NaN</td>\n",
       "    </tr>\n",
       "    <tr>\n",
       "      <th>25/04/2019</th>\n",
       "      <td>Aguacate Hass</td>\n",
       "      <td>Primera</td>\n",
       "      <td>Caja de 15 kg.</td>\n",
       "      <td>aguascalientes</td>\n",
       "      <td>nayarit</td>\n",
       "      <td>808</td>\n",
       "      <td>810</td>\n",
       "      <td>809</td>\n",
       "      <td>NaN</td>\n",
       "    </tr>\n",
       "    <tr>\n",
       "      <th>26/04/2019</th>\n",
       "      <td>Aguacate Hass</td>\n",
       "      <td>Primera</td>\n",
       "      <td>Caja de 15 kg.</td>\n",
       "      <td>aguascalientes</td>\n",
       "      <td>nayarit</td>\n",
       "      <td>808</td>\n",
       "      <td>810</td>\n",
       "      <td>809</td>\n",
       "      <td>NaN</td>\n",
       "    </tr>\n",
       "  </tbody>\n",
       "</table>\n",
       "</div>"
      ],
      "text/plain": [
       "                 producto  calidad    presentación          origen  destino  \\\n",
       "Fecha                                                                         \n",
       "22/04/2019  Aguacate Hass  Primera  Caja de 15 kg.  aguascalientes  nayarit   \n",
       "23/04/2019  Aguacate Hass  Primera  Caja de 15 kg.  aguascalientes  nayarit   \n",
       "24/04/2019  Aguacate Hass  Primera  Caja de 15 kg.  aguascalientes  nayarit   \n",
       "25/04/2019  Aguacate Hass  Primera  Caja de 15 kg.  aguascalientes  nayarit   \n",
       "26/04/2019  Aguacate Hass  Primera  Caja de 15 kg.  aguascalientes  nayarit   \n",
       "\n",
       "           precio mín precio max precio frec obs.  \n",
       "Fecha                                              \n",
       "22/04/2019        808        810         809  NaN  \n",
       "23/04/2019        808        810         809  NaN  \n",
       "24/04/2019        808        810         809  NaN  \n",
       "25/04/2019        808        810         809  NaN  \n",
       "26/04/2019        808        810         809  NaN  "
      ]
     },
     "execution_count": 6,
     "metadata": {},
     "output_type": "execute_result"
    }
   ],
   "source": [
    "c2019.columns = c2019.columns.str.lower()\n",
    "c2019['origen']=c2019['origen'].str.lower()\n",
    "c2019['destino']=c2019['destino'].str.lower()\n",
    "c2019['destino']=c2019['destino'].apply(lambda x:(re.search('(.+(?=:))', x)).group(1))\n",
    "c2019.head()"
   ]
  },
  {
   "cell_type": "code",
   "execution_count": 7,
   "id": "parental-hygiene",
   "metadata": {},
   "outputs": [
    {
     "name": "stdout",
     "output_type": "stream",
     "text": [
      "<class 'pandas.core.frame.DataFrame'>\n",
      "Index: 14997 entries, 22/04/2019 to 29/04/2019\n",
      "Data columns (total 9 columns):\n",
      " #   Column        Non-Null Count  Dtype \n",
      "---  ------        --------------  ----- \n",
      " 0   producto      14997 non-null  object\n",
      " 1   calidad       14997 non-null  object\n",
      " 2   presentación  14997 non-null  object\n",
      " 3   origen        14997 non-null  object\n",
      " 4   destino       14997 non-null  object\n",
      " 5   precio mín    14997 non-null  object\n",
      " 6   precio max    14997 non-null  object\n",
      " 7   precio frec   14997 non-null  object\n",
      " 8   obs.          764 non-null    object\n",
      "dtypes: object(9)\n",
      "memory usage: 1.1+ MB\n"
     ]
    }
   ],
   "source": [
    "c2019.info()"
   ]
  },
  {
   "cell_type": "code",
   "execution_count": 8,
   "id": "aboriginal-pontiac",
   "metadata": {},
   "outputs": [
    {
     "data": {
      "text/html": [
       "<div>\n",
       "<style scoped>\n",
       "    .dataframe tbody tr th:only-of-type {\n",
       "        vertical-align: middle;\n",
       "    }\n",
       "\n",
       "    .dataframe tbody tr th {\n",
       "        vertical-align: top;\n",
       "    }\n",
       "\n",
       "    .dataframe thead th {\n",
       "        text-align: right;\n",
       "    }\n",
       "</style>\n",
       "<table border=\"1\" class=\"dataframe\">\n",
       "  <thead>\n",
       "    <tr style=\"text-align: right;\">\n",
       "      <th></th>\n",
       "      <th>origen</th>\n",
       "      <th>destino</th>\n",
       "      <th>frecuencia</th>\n",
       "    </tr>\n",
       "  </thead>\n",
       "  <tbody>\n",
       "    <tr>\n",
       "      <th>1</th>\n",
       "      <td>aguascalientes</td>\n",
       "      <td>chihuahua</td>\n",
       "      <td>6</td>\n",
       "    </tr>\n",
       "    <tr>\n",
       "      <th>2</th>\n",
       "      <td>aguascalientes</td>\n",
       "      <td>durango</td>\n",
       "      <td>24</td>\n",
       "    </tr>\n",
       "    <tr>\n",
       "      <th>3</th>\n",
       "      <td>aguascalientes</td>\n",
       "      <td>michoacán</td>\n",
       "      <td>12</td>\n",
       "    </tr>\n",
       "    <tr>\n",
       "      <th>4</th>\n",
       "      <td>aguascalientes</td>\n",
       "      <td>nayarit</td>\n",
       "      <td>18</td>\n",
       "    </tr>\n",
       "    <tr>\n",
       "      <th>5</th>\n",
       "      <td>aguascalientes</td>\n",
       "      <td>tamaulipas</td>\n",
       "      <td>6</td>\n",
       "    </tr>\n",
       "  </tbody>\n",
       "</table>\n",
       "</div>"
      ],
      "text/plain": [
       "           origen     destino  frecuencia\n",
       "1  aguascalientes   chihuahua           6\n",
       "2  aguascalientes     durango          24\n",
       "3  aguascalientes   michoacán          12\n",
       "4  aguascalientes     nayarit          18\n",
       "5  aguascalientes  tamaulipas           6"
      ]
     },
     "execution_count": 8,
     "metadata": {},
     "output_type": "execute_result"
    }
   ],
   "source": [
    "#agrupamos por la característica\n",
    "adj_2019 = c2019.groupby(['origen', 'destino']).size().rename('frecuencia').reset_index()\n",
    "\n",
    "\n",
    "#Eliminamos self-loops\n",
    "adj_2019=adj_2019[adj_2019['origen']!=adj_2019['destino']]\n",
    "adj_2019.head()"
   ]
  },
  {
   "cell_type": "code",
   "execution_count": 9,
   "id": "legal-witch",
   "metadata": {},
   "outputs": [],
   "source": [
    "#eliminamos el origen nacional porque no le veo interpretación gráfica\n",
    "\n",
    "adj_2019.drop(adj_2019.loc[adj_2019['origen']=='nacional'].index, inplace=True)"
   ]
  },
  {
   "cell_type": "code",
   "execution_count": 11,
   "id": "russian-gallery",
   "metadata": {},
   "outputs": [],
   "source": [
    "def to_id(nombre):\n",
    "    if nombre == 'aguascalientes':\n",
    "        return 1\n",
    "    if nombre == 'baja california':\n",
    "        return 2\n",
    "    if nombre == 'baja california sur':\n",
    "        return 3\n",
    "    if nombre == 'campeche':\n",
    "        return 4\n",
    "    if nombre == 'chiapas': \n",
    "        return 5\n",
    "    if nombre == 'chihuahua': \n",
    "        return 6\n",
    "    if nombre == 'coahuila': \n",
    "        return 7\n",
    "    if nombre == 'colima':\n",
    "        return 8\n",
    "    if nombre == 'distrito federal': \n",
    "        return 9\n",
    "    if nombre == 'durango':\n",
    "        return 10\n",
    "    if nombre == 'guanajuato':\n",
    "        return 11\n",
    "    if nombre == 'guerrero':\n",
    "        return 12\n",
    "    if nombre == 'hidalgo': \n",
    "        return 13\n",
    "    if nombre == 'jalisco':\n",
    "        return 14\n",
    "    if nombre == 'méxico':\n",
    "        return 15\n",
    "    if nombre == 'michoacán':\n",
    "        return 16\n",
    "    if nombre == 'morelos':\n",
    "        return 17        \n",
    "    if nombre == 'nayarit':\n",
    "        return 18\n",
    "    if nombre == 'nuevo león':\n",
    "        return 19\n",
    "    if nombre == 'oaxaca':\n",
    "        return 20\n",
    "    if nombre == 'puebla':\n",
    "        return 21\n",
    "    if nombre == 'querétaro':\n",
    "        return 22\n",
    "    if nombre == 'quintana roo':\n",
    "        return 23\n",
    "    if nombre == 'san luis potosí':\n",
    "        return 24\n",
    "    if nombre == 'sinaloa':\n",
    "        return 25\n",
    "    if nombre == 'sonora':\n",
    "        return 26\n",
    "    if nombre == 'tabasco':\n",
    "        return 27\n",
    "    if nombre == 'tamaulipas':\n",
    "        return 28\n",
    "    if nombre == 'veracruz':\n",
    "        return 29\n",
    "    if nombre == 'yucatán':\n",
    "        return 30\n",
    "    if nombre == 'zacatecas':\n",
    "        return 31\n",
    "    if nombre == 'importación': \n",
    "        return 32"
   ]
  },
  {
   "cell_type": "code",
   "execution_count": 12,
   "id": "false-circus",
   "metadata": {},
   "outputs": [
    {
     "data": {
      "text/html": [
       "<div>\n",
       "<style scoped>\n",
       "    .dataframe tbody tr th:only-of-type {\n",
       "        vertical-align: middle;\n",
       "    }\n",
       "\n",
       "    .dataframe tbody tr th {\n",
       "        vertical-align: top;\n",
       "    }\n",
       "\n",
       "    .dataframe thead th {\n",
       "        text-align: right;\n",
       "    }\n",
       "</style>\n",
       "<table border=\"1\" class=\"dataframe\">\n",
       "  <thead>\n",
       "    <tr style=\"text-align: right;\">\n",
       "      <th></th>\n",
       "      <th>source</th>\n",
       "      <th>tarjet</th>\n",
       "      <th>freq</th>\n",
       "    </tr>\n",
       "  </thead>\n",
       "  <tbody>\n",
       "    <tr>\n",
       "      <th>1</th>\n",
       "      <td>1</td>\n",
       "      <td>6</td>\n",
       "      <td>6</td>\n",
       "    </tr>\n",
       "    <tr>\n",
       "      <th>2</th>\n",
       "      <td>1</td>\n",
       "      <td>10</td>\n",
       "      <td>24</td>\n",
       "    </tr>\n",
       "    <tr>\n",
       "      <th>3</th>\n",
       "      <td>1</td>\n",
       "      <td>16</td>\n",
       "      <td>12</td>\n",
       "    </tr>\n",
       "    <tr>\n",
       "      <th>4</th>\n",
       "      <td>1</td>\n",
       "      <td>18</td>\n",
       "      <td>18</td>\n",
       "    </tr>\n",
       "    <tr>\n",
       "      <th>5</th>\n",
       "      <td>1</td>\n",
       "      <td>28</td>\n",
       "      <td>6</td>\n",
       "    </tr>\n",
       "  </tbody>\n",
       "</table>\n",
       "</div>"
      ],
      "text/plain": [
       "   source  tarjet  freq\n",
       "1       1       6     6\n",
       "2       1      10    24\n",
       "3       1      16    12\n",
       "4       1      18    18\n",
       "5       1      28     6"
      ]
     },
     "execution_count": 12,
     "metadata": {},
     "output_type": "execute_result"
    }
   ],
   "source": [
    "adj_2019['source']=adj_2019['origen'].apply(to_id)\n",
    "adj_2019['tarjet']=adj_2019['destino'].apply(to_id)\n",
    "edges_2019 = pd.DataFrame()\n",
    "edges_2019['source']=adj_2019['origen'].apply(to_id)\n",
    "edges_2019['tarjet']=adj_2019['destino'].apply(to_id)\n",
    "edges_2019['freq']=adj_2019['frecuencia']\n",
    "\n",
    "edges_2019.head()"
   ]
  },
  {
   "cell_type": "code",
   "execution_count": 14,
   "id": "heavy-paragraph",
   "metadata": {},
   "outputs": [
    {
     "name": "stdout",
     "output_type": "stream",
     "text": [
      "<class 'pandas.core.frame.DataFrame'>\n",
      "Int64Index: 353 entries, 1 to 383\n",
      "Data columns (total 3 columns):\n",
      " #   Column  Non-Null Count  Dtype\n",
      "---  ------  --------------  -----\n",
      " 0   source  353 non-null    int64\n",
      " 1   tarjet  353 non-null    int64\n",
      " 2   freq    353 non-null    int64\n",
      "dtypes: int64(3)\n",
      "memory usage: 11.0 KB\n"
     ]
    }
   ],
   "source": [
    "edges_2019.info()\n",
    "#vemos que no haya valores nulos"
   ]
  },
  {
   "cell_type": "markdown",
   "id": "solar-transfer",
   "metadata": {},
   "source": [
    "# hasta aquí jala sin graph-tool"
   ]
  },
  {
   "cell_type": "code",
   "execution_count": null,
   "id": "broad-legislature",
   "metadata": {},
   "outputs": [],
   "source": [
    "g = gt.Graph()   \n",
    "freq = g.new_ep('int')\n",
    "g.add_edge_list(edges_2019.values, eprops=[freq]) "
   ]
  },
  {
   "cell_type": "code",
   "execution_count": null,
   "id": "changed-devon",
   "metadata": {},
   "outputs": [],
   "source": [
    "g"
   ]
  },
  {
   "cell_type": "code",
   "execution_count": null,
   "id": "environmental-direction",
   "metadata": {},
   "outputs": [],
   "source": [
    "coordenadas"
   ]
  },
  {
   "cell_type": "code",
   "execution_count": null,
   "id": "frozen-bridal",
   "metadata": {},
   "outputs": [],
   "source": [
    "pos = gt.arf_layout(g)"
   ]
  },
  {
   "cell_type": "code",
   "execution_count": null,
   "id": "floating-network",
   "metadata": {},
   "outputs": [],
   "source": [
    "for i in range(0,33):\n",
    "    pos[g.vertex(i)] = (coordenadas.values[i-1,2], coordenadas.values[i-1,1]*-1)\n",
    " \n",
    "list(pos)"
   ]
  },
  {
   "cell_type": "code",
   "execution_count": null,
   "id": "editorial-washer",
   "metadata": {},
   "outputs": [],
   "source": [
    "gt.graph_draw(g, pos=pos, edge_color=freq)"
   ]
  }
 ],
 "metadata": {
  "kernelspec": {
   "display_name": "Python 3",
   "language": "python",
   "name": "python3"
  },
  "language_info": {
   "codemirror_mode": {
    "name": "ipython",
    "version": 3
   },
   "file_extension": ".py",
   "mimetype": "text/x-python",
   "name": "python",
   "nbconvert_exporter": "python",
   "pygments_lexer": "ipython3",
   "version": "3.8.8"
  }
 },
 "nbformat": 4,
 "nbformat_minor": 5
}
